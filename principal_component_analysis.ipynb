{
  "nbformat": 4,
  "nbformat_minor": 0,
  "metadata": {
    "colab": {
      "name": "principal_component_analysis.ipynb",
      "provenance": [],
      "collapsed_sections": [],
      "toc_visible": true,
      "include_colab_link": true
    },
    "kernelspec": {
      "name": "python3",
      "display_name": "Python 3"
    },
    "accelerator": "GPU"
  },
  "cells": [
    {
      "cell_type": "markdown",
      "metadata": {
        "id": "view-in-github",
        "colab_type": "text"
      },
      "source": [
        "<a href=\"https://colab.research.google.com/github/nguyengiapphuongduy/ml-191/blob/master/principal_component_analysis.ipynb\" target=\"_parent\"><img src=\"https://colab.research.google.com/assets/colab-badge.svg\" alt=\"Open In Colab\"/></a>"
      ]
    },
    {
      "cell_type": "markdown",
      "metadata": {
        "id": "MvySxkFNCnSX",
        "colab_type": "text"
      },
      "source": [
        "# Class PCA\n",
        "\n",
        "##### Calculate the covariance matrix:\n",
        "$$\\mathbf{\\hat{x}_n} = \\mathbf{x_n} - \\mathbf{\\bar{x}}$$\n",
        "$$S = \\frac{1}{N}\\hat{X}\\hat{X}^T$$\n",
        "##### Find eigenvalues, eigenvectors:\n",
        "$$S u=\\lambda u$$"
      ]
    },
    {
      "cell_type": "code",
      "metadata": {
        "id": "Tts8WT6IA1dl",
        "colab_type": "code",
        "colab": {}
      },
      "source": [
        "class MyPCA():\n",
        "    def __init__(self, n_components=1, use_svd=False):\n",
        "        self.n_components = n_components\n",
        "        self.use_svd = use_svd\n",
        "\n",
        "    def fit(self, X):\n",
        "        N = X.shape[0]\n",
        "        self.mean_ = X.sum(axis=0)/N\n",
        "        Xcenter = X - self.mean_\n",
        "        if self.use_svd:\n",
        "            u, singular_values, self.eigen_vectors_ = np.linalg.svd(Xcenter)\n",
        "            self.explained_variance_ = singular_values*singular_values\n",
        "        else:\n",
        "            cov = Xcenter.T.dot(Xcenter)/N\n",
        "            self.explained_variance_, self.eigen_vectors_ = np.linalg.eigh(cov)\n",
        "            self.eigen_vectors_ = self.eigen_vectors_[::-1, :]\n",
        "        self.components_ = -self.eigen_vectors_[:self.n_components, :]\n",
        "\n",
        "    def transform(self, X):\n",
        "        Xcenter = X - self.mean_\n",
        "        return Xcenter.dot(self.components_.T)\n",
        "\n",
        "    def inverse_transform(self, Xu):\n",
        "        return Xu.dot(self.components_) + self.mean_"
      ],
      "execution_count": 0,
      "outputs": []
    },
    {
      "cell_type": "markdown",
      "metadata": {
        "id": "AGtvd5MxCx-6",
        "colab_type": "text"
      },
      "source": [
        "# Apply"
      ]
    },
    {
      "cell_type": "markdown",
      "metadata": {
        "id": "MMF1-AtlA2mu",
        "colab_type": "text"
      },
      "source": [
        "### Generate Input\n",
        "\n",
        "Generate the $10$ input points, assume that $\\text{mean} = (0,0)$ and the covariance matrix is $\\begin{pmatrix}\n",
        "4 & 3\\\\\n",
        "3 & 2.5\n",
        "\\end{pmatrix}$"
      ]
    },
    {
      "cell_type": "code",
      "metadata": {
        "id": "z9d73cRVqI7J",
        "colab_type": "code",
        "outputId": "ddc17c2a-7eea-4673-b5ff-f09ee25c6a86",
        "colab": {
          "base_uri": "https://localhost:8080/",
          "height": 365
        }
      },
      "source": [
        "import numpy as np\n",
        "import matplotlib.pyplot as plt\n",
        "np.set_printoptions(suppress=True)\n",
        "\n",
        "N = 10\n",
        "X = np.random.multivariate_normal([0, 0], [[4, 2], [2, 2]], N)\n",
        "\n",
        "plt.figure(figsize=(8, 8))\n",
        "plt.axes().set_aspect('equal')\n",
        "plt.xlabel('$x_1$', fontsize=18)\n",
        "plt.ylabel('$x_2$', fontsize=18)\n",
        "xmin, ymin = X.min(axis=0) - 1\n",
        "xmax, ymax = X.max(axis=0) + 1\n",
        "plt.axis((xmin, xmax, ymin, ymax))\n",
        "plt.scatter(X[:, 0], X[:, 1])\n",
        "pass"
      ],
      "execution_count": 0,
      "outputs": [
        {
          "output_type": "display_data",
          "data": {
            "image/png": "[encoded data removed]",
            "text/plain": [
              "<Figure size 576x576 with 1 Axes>"
            ]
          },
          "metadata": {
            "tags": []
          }
        }
      ]
    },
    {
      "cell_type": "markdown",
      "metadata": {
        "id": "oYdcPcGmC5bh",
        "colab_type": "text"
      },
      "source": [
        "### Fit"
      ]
    },
    {
      "cell_type": "code",
      "metadata": {
        "id": "WF1SRWD0Jn2H",
        "colab_type": "code",
        "colab": {}
      },
      "source": [
        "from sklearn.decomposition import PCA\n",
        "\n",
        "skPCA = PCA(n_components=1)\n",
        "skPCA.fit(X)\n",
        "\n",
        "myPCA = MyPCA(n_components=1, use_svd=False)\n",
        "myPCA.fit(X)\n",
        "\n",
        "mySVD = MyPCA(n_components=1, use_svd=True)\n",
        "mySVD.fit(X)"
      ],
      "execution_count": 0,
      "outputs": []
    },
    {
      "cell_type": "markdown",
      "metadata": {
        "id": "XwZbbZLXC8pM",
        "colab_type": "text"
      },
      "source": [
        "### Compare results"
      ]
    },
    {
      "cell_type": "code",
      "metadata": {
        "id": "ljq0KL2M716c",
        "colab_type": "code",
        "outputId": "86d8dd15-3536-4b24-83b9-8741c23fd5e3",
        "colab": {
          "base_uri": "https://localhost:8080/",
          "height": 151
        }
      },
      "source": [
        "def compare(vec1, vec2):\n",
        "    '''check if two vectors are have the same direction'''\n",
        "    div = vec1/vec2\n",
        "    return np.allclose(div, div[0])\n",
        "\n",
        "skpca = skPCA.components_\n",
        "mypca = myPCA.components_\n",
        "mysvd = mySVD.components_\n",
        "print('sklearn PCA:', skpca, 'my implement:', mypca, 'use SVD:', mysvd,\n",
        "      'My PCA == sklearn: {}'.format(compare(mypca, skpca)),\n",
        "      'My SVD-enabled PCA == sklearn: {}'.format(compare(mysvd, skpca)), sep='\\n')"
      ],
      "execution_count": 0,
      "outputs": [
        {
          "output_type": "stream",
          "text": [
            "sklearn PCA:\n",
            "[[-0.88015023 -0.47469524]]\n",
            "my implement:\n",
            "[[0.88015023 0.47469524]]\n",
            "use SVD:\n",
            "[[0.88015023 0.47469524]]\n",
            "My PCA == sklearn: True\n",
            "My SVD-enabled PCA == sklearn: True\n"
          ],
          "name": "stdout"
        }
      ]
    },
    {
      "cell_type": "code",
      "metadata": {
        "id": "wDRbuDCk9Pg5",
        "colab_type": "code",
        "outputId": "e2d3368e-9f69-4ca3-9c14-1f90f6913bef",
        "colab": {
          "base_uri": "https://localhost:8080/",
          "height": 605
        }
      },
      "source": [
        "skpca = skPCA.transform(X)\n",
        "mypca = myPCA.transform(X)\n",
        "mysvd = mySVD.transform(X)\n",
        "print('sklearn PCA:', skpca, 'my implement:', mypca, 'use SVD:', mysvd,\n",
        "      'My PCA == sklearn: {}'.format(compare(mypca, skpca)),\n",
        "      'My SVD-enabled PCA == sklearn: {}'.format(compare(mysvd, skpca)), sep='\\n')"
      ],
      "execution_count": 0,
      "outputs": [
        {
          "output_type": "stream",
          "text": [
            "sklearn PCA:\n",
            "[[-1.8322961 ]\n",
            " [-2.43771974]\n",
            " [ 0.41602236]\n",
            " [ 1.21351434]\n",
            " [-0.62593966]\n",
            " [-0.70545206]\n",
            " [ 4.69616559]\n",
            " [-0.87694212]\n",
            " [ 2.24679849]\n",
            " [-2.0941511 ]]\n",
            "my implement:\n",
            "[[ 1.8322961 ]\n",
            " [ 2.43771974]\n",
            " [-0.41602236]\n",
            " [-1.21351434]\n",
            " [ 0.62593966]\n",
            " [ 0.70545206]\n",
            " [-4.69616559]\n",
            " [ 0.87694212]\n",
            " [-2.24679849]\n",
            " [ 2.0941511 ]]\n",
            "use SVD:\n",
            "[[ 1.8322961 ]\n",
            " [ 2.43771974]\n",
            " [-0.41602236]\n",
            " [-1.21351434]\n",
            " [ 0.62593966]\n",
            " [ 0.70545206]\n",
            " [-4.69616559]\n",
            " [ 0.87694212]\n",
            " [-2.24679849]\n",
            " [ 2.0941511 ]]\n",
            "My PCA == sklearn: True\n",
            "My SVD-enabled PCA == sklearn: True\n"
          ],
          "name": "stdout"
        }
      ]
    },
    {
      "cell_type": "markdown",
      "metadata": {
        "id": "mxN8z0GiDAbk",
        "colab_type": "text"
      },
      "source": [
        "### Plot"
      ]
    },
    {
      "cell_type": "code",
      "metadata": {
        "id": "RGSSvaAECNVC",
        "colab_type": "code",
        "outputId": "b71e68db-8af2-4898-f488-4197e2546ad8",
        "colab": {
          "base_uri": "https://localhost:8080/",
          "height": 365
        }
      },
      "source": [
        "center = myPCA.mean_\n",
        "Xnew = myPCA.inverse_transform(myPCA.transform(X))\n",
        "direct = myPCA.components_[0]\n",
        "\n",
        "plt.figure(figsize=(8, 8))\n",
        "plt.axes().set_aspect('equal')\n",
        "plt.xlabel('$x_1$', fontsize=18)\n",
        "plt.ylabel('$x_2$', fontsize=18)\n",
        "xmin, ymin = X.min(axis=0) - 1\n",
        "xmax, ymax = X.max(axis=0) + 1\n",
        "plt.axis((xmin, xmax, ymin, ymax))\n",
        "\n",
        "x_plot = np.linspace(xmin, xmax, 100) # b(x-x0) - a(y-y0)=0\n",
        "y_plot = direct[1]/direct[0]*(x_plot - center[0]) + center[1]\n",
        "plt.plot(x_plot, y_plot, '--', color='gray', linewidth=1, label='direction')\n",
        "plt.quiver(X[:, 0], X[:, 1], Xnew[:, 0] - X[:, 0], Xnew[:, 1] - X[:, 1],\n",
        "           scale_units='xy', scale=1, color='black', width=0.003)\n",
        "plt.scatter(X[:, 0], X[:, 1], color='blue', label='original data')\n",
        "plt.scatter(Xnew[:, 0], Xnew[:, 1], color='green', label='restored data')\n",
        "plt.scatter(center[0], center[1], color='gray', s=[50], label='mean')\n",
        "plt.quiver(center[0], center[1], direct[0], direct[1],\n",
        "           scale_units='xy', scale=1, color='red', width=0.007, label='$e_1$')\n",
        "plt.legend()\n",
        "pass"
      ],
      "execution_count": 0,
      "outputs": [
        {
          "output_type": "display_data",
          "data": {
            "image/png": "[encoded data removed]",
            "text/plain": [
              "<Figure size 576x576 with 1 Axes>"
            ]
          },
          "metadata": {
            "tags": []
          }
        }
      ]
    },
    {
      "cell_type": "code",
      "metadata": {
        "id": "v3rrJDF7SXz4",
        "colab_type": "code",
        "colab": {}
      },
      "source": [
        "inp = np.random.randint(0, 100, (30, 10))\n",
        "\n",
        "sk = PCA(n_components=2)\n",
        "sk.fit(X)\n",
        "\n",
        "my1 = MyPCA(n_components=2, use_svd=False)\n",
        "my1.fit(X)\n",
        "\n",
        "my2 = MyPCA(n_components=2, use_svd=True)\n",
        "my2.fit(X)"
      ],
      "execution_count": 0,
      "outputs": []
    },
    {
      "cell_type": "code",
      "metadata": {
        "id": "7vWDErr4SrRs",
        "colab_type": "code",
        "outputId": "9c1dcbe2-17a7-44d3-b2d1-0a057b9e168a",
        "colab": {
          "base_uri": "https://localhost:8080/",
          "height": 84
        }
      },
      "source": [
        "print(sk.components_)\n",
        "print(my1.components_)\n",
        "print(my1.components_)"
      ],
      "execution_count": 0,
      "outputs": [
        {
          "output_type": "stream",
          "text": [
            "[[-0.88015023 -0.47469524]\n",
            " [-0.47469524  0.88015023]]\n",
            "[[ 0.88015023  0.47469524]\n",
            " [-0.47469524  0.88015023]]\n"
          ],
          "name": "stdout"
        }
      ]
    }
  ]
}